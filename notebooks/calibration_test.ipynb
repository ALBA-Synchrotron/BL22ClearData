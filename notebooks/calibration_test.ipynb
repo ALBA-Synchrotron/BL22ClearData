{
 "cells": [
  {
   "cell_type": "code",
   "execution_count": 2,
   "metadata": {},
   "outputs": [
    {
     "name": "stderr",
     "output_type": "stream",
     "text": [
      "DEBUG:bl22mythenlib.Calibration:ReadRawDataSpec: Finding scan 244086 on /homelocal/rhoms/tmp/clear_data/20180420.dat\n",
      "DEBUG:bl22mythenlib.Calibration:ReadRawDataSpec: Skipping header\n",
      "DEBUG:bl22mythenlib.Calibration:ReadRawDataSpec: Reading snapshots\n",
      "DEBUG:bl22mythenlib.Calibration:ReadRawDataSpec: Reading channels names\n",
      "DEBUG:bl22mythenlib.Calibration:ReadRawDataSpec: Reading channels data\n"
     ]
    },
    {
     "name": "stdout",
     "output_type": "stream",
     "text": [
      "Warning: Maximum number of function evaluations has been exceeded.\n"
     ]
    },
    {
     "name": "stderr",
     "output_type": "stream",
     "text": [
      "/homelocal/rhoms/develop/pycharm/MythenPostProcessing/bl22mythenlib/mathfunc.py:144: RuntimeWarning: invalid value encountered in true_divide\n",
      "  return z / z.sum()\n"
     ]
    }
   ],
   "source": [
    "import sys\n",
    "import logging\n",
    "sys.path.append('/homelocal/rhoms/develop/pycharm/MythenPostProcessing/')\n",
    "sys.path.append('/homelocal/rhoms/develop/pycharm/Crystal/')\n",
    "from bl22mythenlib.calibration import Calibration\n",
    "\n",
    "logging.basicConfig(level=logging.DEBUG)\n",
    "\n",
    "scan_filename = '/homelocal/rhoms/tmp/clear_data/20180420.dat'\n",
    "scan_id_calib = 244086\n",
    "\n",
    "calib = Calibration()\n",
    "calib.calibrate(scan_filename, scan_id_calib)\n",
    "\n",
    "scan_filename = '/homelocal/rhoms/tmp/clear_data/20180420.dat'\n",
    "user_roi_low = 650\n",
    "user_roi_high = 900\n",
    "use_user_roi = False\n",
    "user_noise_percent = 2.5\n"
   ]
  },
  {
   "cell_type": "code",
   "execution_count": 3,
   "metadata": {},
   "outputs": [
    {
     "name": "stderr",
     "output_type": "stream",
     "text": [
      "DEBUG:bl22mythenlib.Calibration:Calibration {'date': '27/03/2019 10:26:41', 'scan_file': '/homelocal/rhoms/tmp/clear_data/20180420.dat', 'scan_id': 244086, 'e0': 7057.063535583127, 'p0': 782, 'a': -0.08576484092311305, 'b': 76.44588904389447, 'k': 1.500205490999997, 'energy_a': -0.12866488528759545, 'energy_b': 7157.679475878027, 'auto_roi': True, 'roi_low': 684, 'roi_high': 889, 'calib_method': None, 'calib_vector': None, 'cbragg_pos': None, 'crystal_order': 3.0, 'caz_pos': -182.804}\n",
      "INFO:bl22mythenlib.Calibration:Saving calibration to: /homelocal/rhoms/develop/tmp/test_calib_calib_015.txt\n",
      "INFO:bl22mythenlib.Calibration:Calibration saved.\n",
      "INFO:bl22mythenlib.Calibration:Saved calibration plot /homelocal/rhoms/develop/tmp/test_calib_plot_015.txt\n"
     ]
    }
   ],
   "source": [
    "calib.save_to_file('/homelocal/rhoms/develop/tmp/test_calib.txt')"
   ]
  },
  {
   "cell_type": "code",
   "execution_count": null,
   "metadata": {},
   "outputs": [],
   "source": []
  }
 ],
 "metadata": {
  "kernelspec": {
   "display_name": "Python 3",
   "language": "python",
   "name": "python3"
  },
  "language_info": {
   "codemirror_mode": {
    "name": "ipython",
    "version": 3
   },
   "file_extension": ".py",
   "mimetype": "text/x-python",
   "name": "python",
   "nbconvert_exporter": "python",
   "pygments_lexer": "ipython3",
   "version": "3.7.1"
  }
 },
 "nbformat": 4,
 "nbformat_minor": 2
}
